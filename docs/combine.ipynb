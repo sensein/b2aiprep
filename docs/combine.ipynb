{
 "cells": [
  {
   "cell_type": "code",
   "execution_count": 6,
   "metadata": {},
   "outputs": [
    {
     "name": "stderr",
     "output_type": "stream",
     "text": [
      "/var/folders/mw/hcdj2qy1399fmz20sspcnhz00000gn/T/ipykernel_68077/2000531406.py:5: DtypeWarning: Columns (69,75,76,77,78,79,80,82,84,86,88,90,92,93,106,113,115,117,119,121,123,124,125,133,134,139,140,152,154,156,158,160,162,163,164,172,173,190,191,192,194,196,198,200,202,204,205,206,207,216,217,218,219,221,223,225,227,229,231,232,233,238,239,240,241,242,243,244,245,246,247,248,249,250,251,252,253,254,255,258,259,260,261,262,263,265,267,282,283,295,296,297,298,299,300,301,317,327,332,333,334,335,336,339,340,342,344,345,346,433,450,465,467,483,547,560,569,584,585,586,588,590,591,592,593,594,625,672,675,687,702,704,705,706,707,708,709,710,711,712,713,714,715,716,717,718,719,720,721,722,723,724,725,726,727,728,729,730,731,732,733,734,735,736,737,738,739,740,741,742,744,745,746,747,748,749,750,751,752,753,754,756,757,758,759,760,761,762,763,764,765,766,767,768,769,770,771,772,773,807,811,813,814,817,818,819,820,821,825,826,827,828,829,830,831,832,833,835,836,837,838,839,840,841,842,843,844,845,846,847,848,850,851,852,853,854,855,856,857,860,861,865,866,867,869,870,871,874,875,877,878,879,880,881,882,883,884,885,886,887,888,889,890,891,892,893,895,896,897,898,899,901,902,903,905,907,908,909,910,914,916,918,920,931,932,933,934,936,938,939,940,941,942,943,944,945,946,950,951,952,953,956,958,959,962,963,964,966,968,969,970,971,972,973,974,975,977,978,979,980,981,983,984,985,987,990,991,992,993,996,998,1000,1001,1002,1003,1004,1005,1007,1008,1009,1011,1012,1013,1014,1016,1017,1018,1020,1022,1023,1024,1025,1027,1028,1029,1030,1031,1032,1033,1034,1035,1037,1038,1039,1041,1042,1043,1045,1046,1047,1048,1049,1050,1051,1052,1054,1055,1056,1059,1060,1061,1062,1063,1064,1065,1066,1067,1068,1069,1070,1073,1074,1076,1077,1078,1079,1080,1081,1082,1083,1084,1085,1086,1087,1088,1089,1091,1092,1094,1095,1097,1098,1100,1101,1103,1104,1106,1107,1109,1110,1112,1113,1115,1116,1118,1119,1121,1122,1124,1125,1127,1128,1130,1131,1133,1134,1136,1137,1139,1141,1143,1145,1147,1149,1151,1152,1154,1155,1156,1157,1174,1175,1176,1193,1194,1195,1196,1213,1214) have mixed types. Specify dtype option on import or set low_memory=False.\n",
      "  df = pd.read_csv(csv_path)\n"
     ]
    },
    {
     "name": "stdout",
     "output_type": "stream",
     "text": [
      "Dimensions before combining: (20844, 1215)\n",
      "Dimensions after combining: (307, 1215)\n"
     ]
    }
   ],
   "source": [
    "\n",
    "import pandas as pd\n",
    "\n",
    "# Load the CSV from the specified path\n",
    "csv_path = 'b2ai-data/bridge2ai-voice-corpus-3/bridge2ai-voice-corpus-3-replaced-cols.csv'  # Replace with the actual file path\n",
    "df = pd.read_csv(csv_path)\n",
    "\n",
    "# Print the dimensions before combining\n",
    "print(\"Dimensions before combining:\", df.shape)\n",
    "\n",
    "# Combine rows based on the first column, filling missing values\n",
    "combined_df = df.groupby(df.columns[0]).agg(lambda x: ', '.join(x.dropna().astype(str))).reset_index()\n",
    "\n",
    "output_path = 'b2ai-data/bridge2ai-voice-corpus-3/bridge2ai-voice-corpus-3-replaced-cols-combined.csv' \n",
    "\n",
    "# Print the dimensions after combining\n",
    "print(\"Dimensions after combining:\", combined_df.shape)\n",
    "combined_df.to_csv(output_path, index=False)\n",
    "# exploded_df = combined_df.set_index(df.columns[0]).apply(lambda x: x.str.split(', ')).explode(list(combined_df.columns[1:])).reset_index()\n",
    "# print(\"Dimensions after exploding:\", exploded_df.shape)"
   ]
  },
  {
   "cell_type": "code",
   "execution_count": 4,
   "metadata": {},
   "outputs": [
    {
     "name": "stdout",
     "output_type": "stream",
     "text": [
      "record_id                                                               01401050-e9dd-486e-b0d4-0001ee7f861d\n",
      "redcap_repeat_instrument                                   Session, Session, Session, Session, Acoustic T...\n",
      "redcap_repeat_instance                                     1.0, 2.0, 3.0, 4.0, 1.0, 2.0, 3.0, 4.0, 5.0, 6...\n",
      "selected_language                                                                                    English\n",
      "consent_status                                                                                     Consented\n",
      "                                                                                 ...                        \n",
      "diagnosis_ad_hist_psy_med_problems___laryngeal_cancer                                              Unchecked\n",
      "diagnosis_ad_hist_psy_med_problems___seasonal_allergies                                            Unchecked\n",
      "diagnosis_ad_hist_psy_med_problems___other                                                         Unchecked\n",
      "diagnosis_ad_prescribed_medication                                                                          \n",
      "diagnosis_ad_see_mental_health_professional                                                                 \n",
      "Name: 0, Length: 1215, dtype: object\n"
     ]
    }
   ],
   "source": [
    "print(combined_df.iloc[0])"
   ]
  },
  {
   "cell_type": "code",
   "execution_count": null,
   "metadata": {},
   "outputs": [],
   "source": []
  }
 ],
 "metadata": {
  "kernelspec": {
   "display_name": ".venv",
   "language": "python",
   "name": "python3"
  },
  "language_info": {
   "codemirror_mode": {
    "name": "ipython",
    "version": 3
   },
   "file_extension": ".py",
   "mimetype": "text/x-python",
   "name": "python",
   "nbconvert_exporter": "python",
   "pygments_lexer": "ipython3",
   "version": "3.10.11"
  }
 },
 "nbformat": 4,
 "nbformat_minor": 2
}
