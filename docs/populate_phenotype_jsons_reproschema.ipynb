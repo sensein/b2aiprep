{
 "cells": [
  {
   "cell_type": "code",
   "execution_count": 4,
   "metadata": {},
   "outputs": [
    {
     "data": {
      "text/plain": [
       "'\\nEx:\\n{\\n    \"adhd_session_id\": {\\n        \"description\": \"Unique identifier for the ADHD session.\"\\n    }\\n'"
      ]
     },
     "execution_count": 4,
     "metadata": {},
     "output_type": "execute_result"
    }
   ],
   "source": [
    "\"\"\"\n",
    "{\n",
    "  [assessment_name]: {\n",
    "    \"description\": [description text],\n",
    "    \"url\": [reproschema_url],\n",
    "    \"data elements\": {\n",
    "       [element_name]: {\n",
    "          'description': [description text],\n",
    "          'datatype': <type>,\n",
    "          'choices': [\n",
    "             [choice name],\n",
    "             [another choice name],\n",
    "           ],\n",
    "           'termURL': [reproschema_url]\n",
    "       }\n",
    "     } \n",
    "   }\n",
    "}\n",
    "\"\"\"\n",
    "\n",
    "\"\"\"\n",
    "Ex now:\n",
    "{\n",
    "    \"adhd_session_id\": {\n",
    "        \"description\": \"Unique identifier for the ADHD session.\"\n",
    "    }\n",
    "}\n",
    "\"\"\"\n",
    "#dict of non-items only that match\n",
    "#list of keys that don't correspond to any reproschema files\n",
    "#\n",
    "# def\n",
    "# for each phenotype jsons\n",
    "#   open as dict\n",
    "#   for each key\n",
    "#       recursively search reproschema for item files that match\n",
    "#       if found at least one:\n",
    "#           if at least one type item\n",
    "#               then populate data\n",
    "#           else\n",
    "#              add to list of non-items only that match \n",
    "#       else:\n",
    "#           add to list of keys that don't correspond to any reproschema files\n",
    "#\n",
    "# def populate data\n",
    "#           "
   ]
  },
  {
   "cell_type": "code",
   "execution_count": 16,
   "metadata": {},
   "outputs": [],
   "source": [
    "import os\n",
    "import json\n",
    "\n",
    "def search_string_in_json_files(directory, search_string):\n",
    "    matching_files = []  # List to store paths of matching JSON files\n",
    "\n",
    "    # Walk through each directory and file in the given directory\n",
    "    for root, dirs, files in os.walk(directory):\n",
    "        for phenotype_file_name in files:\n",
    "            file_path = os.path.join(root, phenotype_file_name)\n",
    "            try:\n",
    "                # Attempt to open and load the file as JSON\n",
    "                with open(file_path, 'r', encoding='utf-8') as file:\n",
    "                    data = json.load(file)  # Load JSON data\n",
    "                    # Check if the search string is present in the JSON content\n",
    "                    if search_string in str(data):\n",
    "                        matching_files.append(file_path)\n",
    "            except Exception:\n",
    "                # Skip files that cannot be read or loaded as JSON\n",
    "                continue\n",
    "    \n",
    "    return matching_files  # Return the list of matching file paths\n",
    "# search_string = \"adhd_session_id\"\n",
    "# directory = \"/Users/isaacbevers/sensein/reproschema-wrapper/b2ai-redcap2rs/activities/q_mood_adhd_adult/items\"\n",
    "# search_string_in_json_files(directory, search_string)\n"
   ]
  },
  {
   "cell_type": "code",
   "execution_count": null,
   "metadata": {},
   "outputs": [],
   "source": [
    "def populate_data_entry(phenotype_file_dict, key, item_file_path):\n",
    "    pass"
   ]
  },
  {
   "cell_type": "markdown",
   "metadata": {},
   "source": [
    "\n",
    "\n",
    "\n"
   ]
  },
  {
   "cell_type": "code",
   "execution_count": 18,
   "metadata": {},
   "outputs": [],
   "source": [
    "matching_non_item_files = {}\n",
    "multiple_item_files = []\n",
    "non_matching = []\n",
    "\n",
    "# Specify the phenotype_dir containing the .json files\n",
    "phenotype_dir = \"/Users/isaacbevers/sensein/b2ai-wrapper/b2aiprep/src/b2aiprep/prepare/resources/b2ai-data-bids-like-template/phenotype\"\n",
    "b2ai_redcap2rs_activities_dir = \"/Users/isaacbevers/sensein/reproschema-wrapper/b2ai-redcap2rs/activities\"\n",
    "# Dictionary to store the loaded JSON data\n",
    "\n",
    "def main():\n",
    "    # Loop through each file in the phenotype_dir\n",
    "    for phenotype_file_name in os.listdir(phenotype_dir):\n",
    "        # Check if the file ends with .json and is not \"<measurement_tool_name>.json\"\n",
    "        if phenotype_file_name.endswith(\".json\") and phenotype_file_name != \"<measurement_tool_name>.json\":\n",
    "            file_path = os.path.join(phenotype_dir, phenotype_file_name)\n",
    "\n",
    "            # Open and load the JSON file\n",
    "            with open(file_path, 'r', encoding='utf-8') as file:\n",
    "                phenotype_file_dict = json.load(file)\n",
    "\n",
    "            for key in phenotype_file_dict:\n",
    "                file_paths = search_string_in_json_files(b2ai_redcap2rs_activities_dir, key)\n",
    "                if file_paths:\n",
    "                    item_file_paths = [path for path in file_paths if \"item\" in path]\n",
    "                    if item_file_paths and len(item_file_paths) == 1:\n",
    "                        populate_data_entry(phenotype_file_dict, key, item_file_paths[0])\n",
    "                    elif item_file_paths and len(item_file_paths) > 1:\n",
    "                        multiple_item_files.append(item_file_paths)\n",
    "                    else:\n",
    "                        matching_non_item_files[key] = file_paths\n",
    "                else:\n",
    "                    non_matching.append(key)\n",
    "            # save data\n",
    "\n",
    "#       if found at least one:\n",
    "#           if at least one type item\n",
    "#               then populate data\n",
    "#           else\n",
    "#              add to list of non-items only that match \n",
    "#       else:\n",
    "#           add to list of keys that don't correspond to any reproschema files\n",
    "        \n",
    "        \n"
   ]
  },
  {
   "cell_type": "code",
   "execution_count": null,
   "metadata": {},
   "outputs": [],
   "source": []
  }
 ],
 "metadata": {
  "kernelspec": {
   "display_name": ".venv",
   "language": "python",
   "name": "python3"
  },
  "language_info": {
   "codemirror_mode": {
    "name": "ipython",
    "version": 3
   },
   "file_extension": ".py",
   "mimetype": "text/x-python",
   "name": "python",
   "nbconvert_exporter": "python",
   "pygments_lexer": "ipython3",
   "version": "3.10.11"
  }
 },
 "nbformat": 4,
 "nbformat_minor": 2
}
