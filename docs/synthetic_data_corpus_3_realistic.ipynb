{
 "cells": [
  {
   "cell_type": "code",
   "execution_count": 2,
   "metadata": {},
   "outputs": [],
   "source": [
    "from b2aiprep.synthetic import (\n",
    "    run_diagnostics,\n",
    "    evaluate_data,\n",
    "    get_column_plots\n",
    ")\n",
    "import os"
   ]
  },
  {
   "cell_type": "code",
   "execution_count": 11,
   "metadata": {},
   "outputs": [
    {
     "ename": "AttributeError",
     "evalue": "module 'os' has no attribute 'get_cwd'",
     "output_type": "error",
     "traceback": [
      "\u001b[0;31m---------------------------------------------------------------------------\u001b[0m",
      "\u001b[0;31mAttributeError\u001b[0m                            Traceback (most recent call last)",
      "Cell \u001b[0;32mIn[11], line 1\u001b[0m\n\u001b[0;32m----> 1\u001b[0m \u001b[43mos\u001b[49m\u001b[38;5;241;43m.\u001b[39;49m\u001b[43mget_cwd\u001b[49m()\n",
      "\u001b[0;31mAttributeError\u001b[0m: module 'os' has no attribute 'get_cwd'"
     ]
    }
   ],
   "source": [
    "os.get_cwd()"
   ]
  },
  {
   "cell_type": "code",
   "execution_count": 12,
   "metadata": {},
   "outputs": [],
   "source": [
    "\n",
    "real_data_path = \"/Users/isaacbevers/sensein/b2ai-wrapper/b2ai-data/bridge2ai-voice-corpus-3/bridge2ai-voice-corpus-3-replaced-cols.csv\"\n",
    "synthetic_data_path = \"/Users/isaacbevers/sensein/b2ai-wrapper/b2aiprep/data/corpus-3/sdv_redcap_synthetic_data_100_rows_corpus_3_combine_first.csv\"\n",
    "n_synthetic_rows = 100\n",
    "synthesizer_path = \"/Users/isaacbevers/sensein/b2ai-wrapper/b2aiprep/models/synthesizers/corpus_3_csv_CTGAN_synthesizer_combined.pkl\"\n",
    "diagnostic_report_path = \"/Users/isaacbevers/sensein/b2ai-wrapper/b2aiprep/data/corpus-3/sdv_redcap_synthetic_data_100_rows_corpus_3_combine_first_diagnostic_report.json\"\n",
    "evaluation_report_path = \"/Users/isaacbevers/sensein/b2ai-wrapper/b2aiprep/data/corpus-3/sdv_redcap_synthetic_data_100_rows_corpus_3_combine_first_evaluation_report.json\"\n",
    "column_plot_path = \"\"\n",
    "    # Add unique Record IDs\n",
    "    # data[\"Record ID\"] = [str(uuid.uuid4()) for _ in range(len(data))]"
   ]
  },
  {
   "cell_type": "code",
   "execution_count": 6,
   "metadata": {},
   "outputs": [
    {
     "name": "stderr",
     "output_type": "stream",
     "text": [
      "/Users/isaacbevers/sensein/b2ai-wrapper/b2aiprep/src/b2aiprep/synthetic/synthetic.py:103: DtypeWarning: Columns (69,75,76,77,78,79,80,82,84,86,88,90,92,93,106,113,115,117,119,121,123,124,125,133,134,139,140,152,154,156,158,160,162,163,164,172,173,190,191,192,194,196,198,200,202,204,205,206,207,216,217,218,219,221,223,225,227,229,231,232,233,238,239,240,241,242,243,244,245,246,247,248,249,250,251,252,253,254,255,258,259,260,261,262,263,265,267,282,283,295,296,297,298,299,300,301,317,327,332,333,334,335,336,339,340,342,344,345,346,433,450,465,467,483,547,560,569,584,585,586,588,590,591,592,593,594,625,672,675,687,702,704,705,706,707,708,709,710,711,712,713,714,715,716,717,718,719,720,721,722,723,724,725,726,727,728,729,730,731,732,733,734,735,736,737,738,739,740,741,742,744,745,746,747,748,749,750,751,752,753,754,756,757,758,759,760,761,762,763,764,765,766,767,768,769,770,771,772,773,807,811,813,814,817,818,819,820,821,825,826,827,828,829,830,831,832,833,835,836,837,838,839,840,841,842,843,844,845,846,847,848,850,851,852,853,854,855,856,857,860,861,865,866,867,869,870,871,874,875,877,878,879,880,881,882,883,884,885,886,887,888,889,890,891,892,893,895,896,897,898,899,901,902,903,905,907,908,909,910,914,916,918,920,931,932,933,934,936,938,939,940,941,942,943,944,945,946,950,951,952,953,956,958,959,962,963,964,966,968,969,970,971,972,973,974,975,977,978,979,980,981,983,984,985,987,990,991,992,993,996,998,1000,1001,1002,1003,1004,1005,1007,1008,1009,1011,1012,1013,1014,1016,1017,1018,1020,1022,1023,1024,1025,1027,1028,1029,1030,1031,1032,1033,1034,1035,1037,1038,1039,1041,1042,1043,1045,1046,1047,1048,1049,1050,1051,1052,1054,1055,1056,1059,1060,1061,1062,1063,1064,1065,1066,1067,1068,1069,1070,1073,1074,1076,1077,1078,1079,1080,1081,1082,1083,1084,1085,1086,1087,1088,1089,1091,1092,1094,1095,1097,1098,1100,1101,1103,1104,1106,1107,1109,1110,1112,1113,1115,1116,1118,1119,1121,1122,1124,1125,1127,1128,1130,1131,1133,1134,1136,1137,1139,1141,1143,1145,1147,1149,1151,1152,1154,1155,1156,1157,1174,1175,1176,1193,1194,1195,1196,1213,1214) have mixed types. Specify dtype option on import or set low_memory=False.\n",
      "  real_data = pd.read_csv(real_data_path)\n"
     ]
    },
    {
     "name": "stdout",
     "output_type": "stream",
     "text": [
      "Generating report ...\n",
      "\n",
      "(1/2) Evaluating Data Validity: |███▋      | 448/1215 [00:00<00:00, 1528.42it/s]|"
     ]
    },
    {
     "name": "stderr",
     "output_type": "stream",
     "text": [
      "/Users/isaacbevers/sensein/b2ai-wrapper/.venv/lib/python3.10/site-packages/sdmetrics/single_column/statistical/boundary_adherence.py:58: RuntimeWarning: invalid value encountered in scalar divide\n",
      "  return valid.sum() / len(synthetic_data)\n"
     ]
    },
    {
     "name": "stdout",
     "output_type": "stream",
     "text": [
      "(1/2) Evaluating Data Validity: |██████████| 1215/1215 [00:00<00:00, 1370.50it/s]|\n",
      "Data Validity Score: 95.57%\n",
      "\n",
      "(2/2) Evaluating Data Structure: |██████████| 1/1 [00:00<00:00, 512.31it/s]|\n",
      "Data Structure Score: 99.92%\n",
      "\n"
     ]
    },
    {
     "name": "stderr",
     "output_type": "stream",
     "text": [
      "INFO:b2aiprep.synthetic.synthetic:Basic validity checks completed.\n",
      "INFO:b2aiprep.synthetic.synthetic:Diagnostic report saved to /Users/isaacbevers/sensein/b2ai-wrapper/b2aiprep/data/corpus-3/sdv_redcap_synthetic_data_100_rows_corpus_3_combine_first_diagnostic_report.json.\n"
     ]
    },
    {
     "name": "stdout",
     "output_type": "stream",
     "text": [
      "Overall Score (Average): 97.74%\n",
      "\n"
     ]
    },
    {
     "data": {
      "text/plain": [
       "<sdmetrics.reports.single_table.diagnostic_report.DiagnosticReport at 0x33013fb20>"
      ]
     },
     "execution_count": 6,
     "metadata": {},
     "output_type": "execute_result"
    }
   ],
   "source": [
    "# def run_diagnostics(\n",
    "#     synthetic_data_path: Union[str, Path], \n",
    "#     real_data_path: Union[str, Path], \n",
    "#     diagnostic_report_path: Optional[Path] = None\n",
    "# ) -> dict:\n",
    "    \n",
    "run_diagnostics(synthetic_data_path=synthetic_data_path, real_data_path=real_data_path, diagnostic_report_path=diagnostic_report_path)"
   ]
  },
  {
   "cell_type": "code",
   "execution_count": 10,
   "metadata": {},
   "outputs": [
    {
     "name": "stderr",
     "output_type": "stream",
     "text": [
      "/Users/isaacbevers/sensein/b2ai-wrapper/b2aiprep/src/b2aiprep/synthetic/synthetic.py:137: DtypeWarning: Columns (69,75,76,77,78,79,80,82,84,86,88,90,92,93,106,113,115,117,119,121,123,124,125,133,134,139,140,152,154,156,158,160,162,163,164,172,173,190,191,192,194,196,198,200,202,204,205,206,207,216,217,218,219,221,223,225,227,229,231,232,233,238,239,240,241,242,243,244,245,246,247,248,249,250,251,252,253,254,255,258,259,260,261,262,263,265,267,282,283,295,296,297,298,299,300,301,317,327,332,333,334,335,336,339,340,342,344,345,346,433,450,465,467,483,547,560,569,584,585,586,588,590,591,592,593,594,625,672,675,687,702,704,705,706,707,708,709,710,711,712,713,714,715,716,717,718,719,720,721,722,723,724,725,726,727,728,729,730,731,732,733,734,735,736,737,738,739,740,741,742,744,745,746,747,748,749,750,751,752,753,754,756,757,758,759,760,761,762,763,764,765,766,767,768,769,770,771,772,773,807,811,813,814,817,818,819,820,821,825,826,827,828,829,830,831,832,833,835,836,837,838,839,840,841,842,843,844,845,846,847,848,850,851,852,853,854,855,856,857,860,861,865,866,867,869,870,871,874,875,877,878,879,880,881,882,883,884,885,886,887,888,889,890,891,892,893,895,896,897,898,899,901,902,903,905,907,908,909,910,914,916,918,920,931,932,933,934,936,938,939,940,941,942,943,944,945,946,950,951,952,953,956,958,959,962,963,964,966,968,969,970,971,972,973,974,975,977,978,979,980,981,983,984,985,987,990,991,992,993,996,998,1000,1001,1002,1003,1004,1005,1007,1008,1009,1011,1012,1013,1014,1016,1017,1018,1020,1022,1023,1024,1025,1027,1028,1029,1030,1031,1032,1033,1034,1035,1037,1038,1039,1041,1042,1043,1045,1046,1047,1048,1049,1050,1051,1052,1054,1055,1056,1059,1060,1061,1062,1063,1064,1065,1066,1067,1068,1069,1070,1073,1074,1076,1077,1078,1079,1080,1081,1082,1083,1084,1085,1086,1087,1088,1089,1091,1092,1094,1095,1097,1098,1100,1101,1103,1104,1106,1107,1109,1110,1112,1113,1115,1116,1118,1119,1121,1122,1124,1125,1127,1128,1130,1131,1133,1134,1136,1137,1139,1141,1143,1145,1147,1149,1151,1152,1154,1155,1156,1157,1174,1175,1176,1193,1194,1195,1196,1213,1214) have mixed types. Specify dtype option on import or set low_memory=False.\n",
      "  real_data_path (Union[str, Path]): Path to the real data CSV file.\n"
     ]
    },
    {
     "name": "stdout",
     "output_type": "stream",
     "text": [
      "Generating report ...\n",
      "\n",
      "(1/2) Evaluating Column Shapes: |██████████| 1215/1215 [00:00<00:00, 3419.85it/s]|\n",
      "Column Shapes Score: 82.07%\n",
      "\n",
      "(2/2) Evaluating Column Pair Trends: |          | 3386/737505 [02:11<08:33, 1429.83it/s]| "
     ]
    },
    {
     "name": "stderr",
     "output_type": "stream",
     "text": [
      "/Users/isaacbevers/sensein/b2ai-wrapper/.venv/lib/python3.10/site-packages/sdmetrics/column_pairs/statistical/correlation_similarity.py:102: ConstantInputWarning: An input array is constant; the correlation coefficient is not defined.\n",
      "  correlation_real, _ = correlation_fn(real_data[column1], real_data[column2])\n",
      "/Users/isaacbevers/sensein/b2ai-wrapper/.venv/lib/python3.10/site-packages/sdmetrics/column_pairs/statistical/correlation_similarity.py:102: ConstantInputWarning: An input array is constant; the correlation coefficient is not defined.\n",
      "  correlation_real, _ = correlation_fn(real_data[column1], real_data[column2])\n",
      "/Users/isaacbevers/sensein/b2ai-wrapper/.venv/lib/python3.10/site-packages/sdmetrics/column_pairs/statistical/correlation_similarity.py:102: ConstantInputWarning: An input array is constant; the correlation coefficient is not defined.\n",
      "  correlation_real, _ = correlation_fn(real_data[column1], real_data[column2])\n",
      "/Users/isaacbevers/sensein/b2ai-wrapper/.venv/lib/python3.10/site-packages/sdmetrics/column_pairs/statistical/correlation_similarity.py:102: ConstantInputWarning: An input array is constant; the correlation coefficient is not defined.\n",
      "  correlation_real, _ = correlation_fn(real_data[column1], real_data[column2])\n",
      "/Users/isaacbevers/sensein/b2ai-wrapper/.venv/lib/python3.10/site-packages/sdmetrics/column_pairs/statistical/correlation_similarity.py:102: ConstantInputWarning: An input array is constant; the correlation coefficient is not defined.\n",
      "  correlation_real, _ = correlation_fn(real_data[column1], real_data[column2])\n",
      "/Users/isaacbevers/sensein/b2ai-wrapper/.venv/lib/python3.10/site-packages/sdmetrics/column_pairs/statistical/correlation_similarity.py:102: ConstantInputWarning: An input array is constant; the correlation coefficient is not defined.\n",
      "  correlation_real, _ = correlation_fn(real_data[column1], real_data[column2])\n",
      "/Users/isaacbevers/sensein/b2ai-wrapper/.venv/lib/python3.10/site-packages/sdmetrics/column_pairs/statistical/correlation_similarity.py:102: ConstantInputWarning: An input array is constant; the correlation coefficient is not defined.\n",
      "  correlation_real, _ = correlation_fn(real_data[column1], real_data[column2])\n",
      "/Users/isaacbevers/sensein/b2ai-wrapper/.venv/lib/python3.10/site-packages/sdmetrics/column_pairs/statistical/correlation_similarity.py:102: ConstantInputWarning: An input array is constant; the correlation coefficient is not defined.\n",
      "  correlation_real, _ = correlation_fn(real_data[column1], real_data[column2])\n",
      "/Users/isaacbevers/sensein/b2ai-wrapper/.venv/lib/python3.10/site-packages/sdmetrics/column_pairs/statistical/correlation_similarity.py:102: ConstantInputWarning: An input array is constant; the correlation coefficient is not defined.\n",
      "  correlation_real, _ = correlation_fn(real_data[column1], real_data[column2])\n",
      "/Users/isaacbevers/sensein/b2ai-wrapper/.venv/lib/python3.10/site-packages/sdmetrics/column_pairs/statistical/correlation_similarity.py:102: ConstantInputWarning: An input array is constant; the correlation coefficient is not defined.\n",
      "  correlation_real, _ = correlation_fn(real_data[column1], real_data[column2])\n",
      "/Users/isaacbevers/sensein/b2ai-wrapper/.venv/lib/python3.10/site-packages/sdmetrics/column_pairs/statistical/correlation_similarity.py:102: ConstantInputWarning: An input array is constant; the correlation coefficient is not defined.\n",
      "  correlation_real, _ = correlation_fn(real_data[column1], real_data[column2])\n",
      "/Users/isaacbevers/sensein/b2ai-wrapper/.venv/lib/python3.10/site-packages/sdmetrics/column_pairs/statistical/correlation_similarity.py:102: ConstantInputWarning: An input array is constant; the correlation coefficient is not defined.\n",
      "  correlation_real, _ = correlation_fn(real_data[column1], real_data[column2])\n",
      "/Users/isaacbevers/sensein/b2ai-wrapper/.venv/lib/python3.10/site-packages/sdmetrics/column_pairs/statistical/correlation_similarity.py:102: ConstantInputWarning: An input array is constant; the correlation coefficient is not defined.\n",
      "  correlation_real, _ = correlation_fn(real_data[column1], real_data[column2])\n",
      "/Users/isaacbevers/sensein/b2ai-wrapper/.venv/lib/python3.10/site-packages/sdmetrics/column_pairs/statistical/correlation_similarity.py:102: ConstantInputWarning: An input array is constant; the correlation coefficient is not defined.\n",
      "  correlation_real, _ = correlation_fn(real_data[column1], real_data[column2])\n",
      "/Users/isaacbevers/sensein/b2ai-wrapper/.venv/lib/python3.10/site-packages/sdmetrics/column_pairs/statistical/correlation_similarity.py:102: ConstantInputWarning: An input array is constant; the correlation coefficient is not defined.\n",
      "  correlation_real, _ = correlation_fn(real_data[column1], real_data[column2])\n",
      "/Users/isaacbevers/sensein/b2ai-wrapper/.venv/lib/python3.10/site-packages/sdmetrics/column_pairs/statistical/correlation_similarity.py:102: ConstantInputWarning: An input array is constant; the correlation coefficient is not defined.\n",
      "  correlation_real, _ = correlation_fn(real_data[column1], real_data[column2])\n"
     ]
    },
    {
     "name": "stdout",
     "output_type": "stream",
     "text": [
      "(2/2) Evaluating Column Pair Trends: |█▎        | 99633/737505 [15:28<1:23:36, 127.16it/s]|"
     ]
    },
    {
     "name": "stderr",
     "output_type": "stream",
     "text": [
      "/Users/isaacbevers/sensein/b2ai-wrapper/.venv/lib/python3.10/site-packages/sdmetrics/column_pairs/statistical/correlation_similarity.py:103: ConstantInputWarning: An input array is constant; the correlation coefficient is not defined.\n",
      "  correlation_synthetic, _ = correlation_fn(synthetic_data[column1], synthetic_data[column2])\n"
     ]
    },
    {
     "name": "stdout",
     "output_type": "stream",
     "text": [
      "(2/2) Evaluating Column Pair Trends: |█▊        | 129767/737505 [19:44<1:25:44, 118.13it/s]|"
     ]
    },
    {
     "name": "stderr",
     "output_type": "stream",
     "text": [
      "/Users/isaacbevers/sensein/b2ai-wrapper/.venv/lib/python3.10/site-packages/sdmetrics/column_pairs/statistical/correlation_similarity.py:103: ConstantInputWarning: An input array is constant; the correlation coefficient is not defined.\n",
      "  correlation_synthetic, _ = correlation_fn(synthetic_data[column1], synthetic_data[column2])\n"
     ]
    },
    {
     "name": "stdout",
     "output_type": "stream",
     "text": [
      "(2/2) Evaluating Column Pair Trends: |█▊        | 134174/737505 [20:24<1:24:53, 118.45it/s]|"
     ]
    },
    {
     "name": "stderr",
     "output_type": "stream",
     "text": [
      "/Users/isaacbevers/sensein/b2ai-wrapper/.venv/lib/python3.10/site-packages/sdmetrics/column_pairs/statistical/correlation_similarity.py:103: ConstantInputWarning: An input array is constant; the correlation coefficient is not defined.\n",
      "  correlation_synthetic, _ = correlation_fn(synthetic_data[column1], synthetic_data[column2])\n",
      "/Users/isaacbevers/sensein/b2ai-wrapper/.venv/lib/python3.10/site-packages/sdmetrics/column_pairs/statistical/correlation_similarity.py:103: ConstantInputWarning: An input array is constant; the correlation coefficient is not defined.\n",
      "  correlation_synthetic, _ = correlation_fn(synthetic_data[column1], synthetic_data[column2])\n"
     ]
    },
    {
     "name": "stdout",
     "output_type": "stream",
     "text": [
      "(2/2) Evaluating Column Pair Trends: |█▊        | 136362/737505 [20:43<1:46:25, 94.14it/s]| "
     ]
    },
    {
     "name": "stderr",
     "output_type": "stream",
     "text": [
      "/Users/isaacbevers/sensein/b2ai-wrapper/.venv/lib/python3.10/site-packages/sdmetrics/column_pairs/statistical/correlation_similarity.py:103: ConstantInputWarning: An input array is constant; the correlation coefficient is not defined.\n",
      "  correlation_synthetic, _ = correlation_fn(synthetic_data[column1], synthetic_data[column2])\n"
     ]
    },
    {
     "name": "stdout",
     "output_type": "stream",
     "text": [
      "(2/2) Evaluating Column Pair Trends: |████████  | 598921/737505 [1:46:24<34:27, 67.04it/s]|    "
     ]
    },
    {
     "name": "stderr",
     "output_type": "stream",
     "text": [
      "/Users/isaacbevers/sensein/b2ai-wrapper/.venv/lib/python3.10/site-packages/sdmetrics/column_pairs/statistical/correlation_similarity.py:103: ConstantInputWarning: An input array is constant; the correlation coefficient is not defined.\n",
      "  correlation_synthetic, _ = correlation_fn(synthetic_data[column1], synthetic_data[column2])\n",
      "/Users/isaacbevers/sensein/b2ai-wrapper/.venv/lib/python3.10/site-packages/sdmetrics/column_pairs/statistical/correlation_similarity.py:103: ConstantInputWarning: An input array is constant; the correlation coefficient is not defined.\n",
      "  correlation_synthetic, _ = correlation_fn(synthetic_data[column1], synthetic_data[column2])\n",
      "/Users/isaacbevers/sensein/b2ai-wrapper/.venv/lib/python3.10/site-packages/sdmetrics/column_pairs/statistical/correlation_similarity.py:103: ConstantInputWarning: An input array is constant; the correlation coefficient is not defined.\n",
      "  correlation_synthetic, _ = correlation_fn(synthetic_data[column1], synthetic_data[column2])\n",
      "/Users/isaacbevers/sensein/b2ai-wrapper/.venv/lib/python3.10/site-packages/sdmetrics/column_pairs/statistical/correlation_similarity.py:103: ConstantInputWarning: An input array is constant; the correlation coefficient is not defined.\n",
      "  correlation_synthetic, _ = correlation_fn(synthetic_data[column1], synthetic_data[column2])\n",
      "/Users/isaacbevers/sensein/b2ai-wrapper/.venv/lib/python3.10/site-packages/sdmetrics/column_pairs/statistical/correlation_similarity.py:103: ConstantInputWarning: An input array is constant; the correlation coefficient is not defined.\n",
      "  correlation_synthetic, _ = correlation_fn(synthetic_data[column1], synthetic_data[column2])\n",
      "/Users/isaacbevers/sensein/b2ai-wrapper/.venv/lib/python3.10/site-packages/sdmetrics/column_pairs/statistical/correlation_similarity.py:103: ConstantInputWarning: An input array is constant; the correlation coefficient is not defined.\n",
      "  correlation_synthetic, _ = correlation_fn(synthetic_data[column1], synthetic_data[column2])\n"
     ]
    },
    {
     "name": "stdout",
     "output_type": "stream",
     "text": [
      "(2/2) Evaluating Column Pair Trends: |████████▏ | 599445/737505 [1:46:29<20:49, 110.51it/s]|"
     ]
    },
    {
     "name": "stderr",
     "output_type": "stream",
     "text": [
      "/Users/isaacbevers/sensein/b2ai-wrapper/.venv/lib/python3.10/site-packages/sdmetrics/column_pairs/statistical/correlation_similarity.py:103: ConstantInputWarning: An input array is constant; the correlation coefficient is not defined.\n",
      "  correlation_synthetic, _ = correlation_fn(synthetic_data[column1], synthetic_data[column2])\n",
      "/Users/isaacbevers/sensein/b2ai-wrapper/.venv/lib/python3.10/site-packages/sdmetrics/column_pairs/statistical/correlation_similarity.py:103: ConstantInputWarning: An input array is constant; the correlation coefficient is not defined.\n",
      "  correlation_synthetic, _ = correlation_fn(synthetic_data[column1], synthetic_data[column2])\n",
      "/Users/isaacbevers/sensein/b2ai-wrapper/.venv/lib/python3.10/site-packages/sdmetrics/column_pairs/statistical/correlation_similarity.py:103: ConstantInputWarning: An input array is constant; the correlation coefficient is not defined.\n",
      "  correlation_synthetic, _ = correlation_fn(synthetic_data[column1], synthetic_data[column2])\n",
      "/Users/isaacbevers/sensein/b2ai-wrapper/.venv/lib/python3.10/site-packages/sdmetrics/column_pairs/statistical/correlation_similarity.py:103: ConstantInputWarning: An input array is constant; the correlation coefficient is not defined.\n",
      "  correlation_synthetic, _ = correlation_fn(synthetic_data[column1], synthetic_data[column2])\n"
     ]
    },
    {
     "name": "stdout",
     "output_type": "stream",
     "text": [
      "(2/2) Evaluating Column Pair Trends: |████████▏ | 599971/737505 [1:46:33<20:04, 114.20it/s]|"
     ]
    },
    {
     "name": "stderr",
     "output_type": "stream",
     "text": [
      "/Users/isaacbevers/sensein/b2ai-wrapper/.venv/lib/python3.10/site-packages/sdmetrics/column_pairs/statistical/correlation_similarity.py:103: ConstantInputWarning: An input array is constant; the correlation coefficient is not defined.\n",
      "  correlation_synthetic, _ = correlation_fn(synthetic_data[column1], synthetic_data[column2])\n",
      "/Users/isaacbevers/sensein/b2ai-wrapper/.venv/lib/python3.10/site-packages/sdmetrics/column_pairs/statistical/correlation_similarity.py:103: ConstantInputWarning: An input array is constant; the correlation coefficient is not defined.\n",
      "  correlation_synthetic, _ = correlation_fn(synthetic_data[column1], synthetic_data[column2])\n",
      "/Users/isaacbevers/sensein/b2ai-wrapper/.venv/lib/python3.10/site-packages/sdmetrics/column_pairs/statistical/correlation_similarity.py:103: ConstantInputWarning: An input array is constant; the correlation coefficient is not defined.\n",
      "  correlation_synthetic, _ = correlation_fn(synthetic_data[column1], synthetic_data[column2])\n",
      "/Users/isaacbevers/sensein/b2ai-wrapper/.venv/lib/python3.10/site-packages/sdmetrics/column_pairs/statistical/correlation_similarity.py:103: ConstantInputWarning: An input array is constant; the correlation coefficient is not defined.\n",
      "  correlation_synthetic, _ = correlation_fn(synthetic_data[column1], synthetic_data[column2])\n",
      "/Users/isaacbevers/sensein/b2ai-wrapper/.venv/lib/python3.10/site-packages/sdmetrics/column_pairs/statistical/correlation_similarity.py:103: ConstantInputWarning: An input array is constant; the correlation coefficient is not defined.\n",
      "  correlation_synthetic, _ = correlation_fn(synthetic_data[column1], synthetic_data[column2])\n",
      "/Users/isaacbevers/sensein/b2ai-wrapper/.venv/lib/python3.10/site-packages/sdmetrics/column_pairs/statistical/correlation_similarity.py:103: ConstantInputWarning: An input array is constant; the correlation coefficient is not defined.\n",
      "  correlation_synthetic, _ = correlation_fn(synthetic_data[column1], synthetic_data[column2])\n",
      "/Users/isaacbevers/sensein/b2ai-wrapper/.venv/lib/python3.10/site-packages/sdmetrics/column_pairs/statistical/correlation_similarity.py:103: ConstantInputWarning: An input array is constant; the correlation coefficient is not defined.\n",
      "  correlation_synthetic, _ = correlation_fn(synthetic_data[column1], synthetic_data[column2])\n"
     ]
    },
    {
     "name": "stdout",
     "output_type": "stream",
     "text": [
      "(2/2) Evaluating Column Pair Trends: |████████▏ | 600493/737505 [1:46:38<20:54, 109.25it/s]|"
     ]
    },
    {
     "name": "stderr",
     "output_type": "stream",
     "text": [
      "/Users/isaacbevers/sensein/b2ai-wrapper/.venv/lib/python3.10/site-packages/sdmetrics/column_pairs/statistical/correlation_similarity.py:103: ConstantInputWarning: An input array is constant; the correlation coefficient is not defined.\n",
      "  correlation_synthetic, _ = correlation_fn(synthetic_data[column1], synthetic_data[column2])\n",
      "/Users/isaacbevers/sensein/b2ai-wrapper/.venv/lib/python3.10/site-packages/sdmetrics/column_pairs/statistical/correlation_similarity.py:103: ConstantInputWarning: An input array is constant; the correlation coefficient is not defined.\n",
      "  correlation_synthetic, _ = correlation_fn(synthetic_data[column1], synthetic_data[column2])\n",
      "/Users/isaacbevers/sensein/b2ai-wrapper/.venv/lib/python3.10/site-packages/sdmetrics/column_pairs/statistical/correlation_similarity.py:103: ConstantInputWarning: An input array is constant; the correlation coefficient is not defined.\n",
      "  correlation_synthetic, _ = correlation_fn(synthetic_data[column1], synthetic_data[column2])\n",
      "/Users/isaacbevers/sensein/b2ai-wrapper/.venv/lib/python3.10/site-packages/sdmetrics/column_pairs/statistical/correlation_similarity.py:103: ConstantInputWarning: An input array is constant; the correlation coefficient is not defined.\n",
      "  correlation_synthetic, _ = correlation_fn(synthetic_data[column1], synthetic_data[column2])\n",
      "/Users/isaacbevers/sensein/b2ai-wrapper/.venv/lib/python3.10/site-packages/sdmetrics/column_pairs/statistical/correlation_similarity.py:103: ConstantInputWarning: An input array is constant; the correlation coefficient is not defined.\n",
      "  correlation_synthetic, _ = correlation_fn(synthetic_data[column1], synthetic_data[column2])\n"
     ]
    },
    {
     "name": "stdout",
     "output_type": "stream",
     "text": [
      "(2/2) Evaluating Column Pair Trends: |████████▏ | 601023/737505 [1:46:43<22:17, 102.07it/s]|"
     ]
    },
    {
     "name": "stderr",
     "output_type": "stream",
     "text": [
      "/Users/isaacbevers/sensein/b2ai-wrapper/.venv/lib/python3.10/site-packages/sdmetrics/column_pairs/statistical/correlation_similarity.py:103: ConstantInputWarning: An input array is constant; the correlation coefficient is not defined.\n",
      "  correlation_synthetic, _ = correlation_fn(synthetic_data[column1], synthetic_data[column2])\n",
      "/Users/isaacbevers/sensein/b2ai-wrapper/.venv/lib/python3.10/site-packages/sdmetrics/column_pairs/statistical/correlation_similarity.py:103: ConstantInputWarning: An input array is constant; the correlation coefficient is not defined.\n",
      "  correlation_synthetic, _ = correlation_fn(synthetic_data[column1], synthetic_data[column2])\n",
      "/Users/isaacbevers/sensein/b2ai-wrapper/.venv/lib/python3.10/site-packages/sdmetrics/column_pairs/statistical/correlation_similarity.py:103: ConstantInputWarning: An input array is constant; the correlation coefficient is not defined.\n",
      "  correlation_synthetic, _ = correlation_fn(synthetic_data[column1], synthetic_data[column2])\n",
      "/Users/isaacbevers/sensein/b2ai-wrapper/.venv/lib/python3.10/site-packages/sdmetrics/column_pairs/statistical/correlation_similarity.py:103: ConstantInputWarning: An input array is constant; the correlation coefficient is not defined.\n",
      "  correlation_synthetic, _ = correlation_fn(synthetic_data[column1], synthetic_data[column2])\n",
      "/Users/isaacbevers/sensein/b2ai-wrapper/.venv/lib/python3.10/site-packages/sdmetrics/column_pairs/statistical/correlation_similarity.py:103: ConstantInputWarning: An input array is constant; the correlation coefficient is not defined.\n",
      "  correlation_synthetic, _ = correlation_fn(synthetic_data[column1], synthetic_data[column2])\n"
     ]
    },
    {
     "name": "stdout",
     "output_type": "stream",
     "text": [
      "(2/2) Evaluating Column Pair Trends: |████████▏ | 601544/737505 [1:46:48<22:33, 100.48it/s]|"
     ]
    },
    {
     "name": "stderr",
     "output_type": "stream",
     "text": [
      "/Users/isaacbevers/sensein/b2ai-wrapper/.venv/lib/python3.10/site-packages/sdmetrics/column_pairs/statistical/correlation_similarity.py:103: ConstantInputWarning: An input array is constant; the correlation coefficient is not defined.\n",
      "  correlation_synthetic, _ = correlation_fn(synthetic_data[column1], synthetic_data[column2])\n",
      "/Users/isaacbevers/sensein/b2ai-wrapper/.venv/lib/python3.10/site-packages/sdmetrics/column_pairs/statistical/correlation_similarity.py:103: ConstantInputWarning: An input array is constant; the correlation coefficient is not defined.\n",
      "  correlation_synthetic, _ = correlation_fn(synthetic_data[column1], synthetic_data[column2])\n"
     ]
    },
    {
     "name": "stdout",
     "output_type": "stream",
     "text": [
      "(2/2) Evaluating Column Pair Trends: |████████▏ | 602582/737505 [1:47:00<25:14, 89.07it/s]| "
     ]
    },
    {
     "name": "stderr",
     "output_type": "stream",
     "text": [
      "/Users/isaacbevers/sensein/b2ai-wrapper/.venv/lib/python3.10/site-packages/sdmetrics/column_pairs/statistical/correlation_similarity.py:103: ConstantInputWarning: An input array is constant; the correlation coefficient is not defined.\n",
      "  correlation_synthetic, _ = correlation_fn(synthetic_data[column1], synthetic_data[column2])\n",
      "/Users/isaacbevers/sensein/b2ai-wrapper/.venv/lib/python3.10/site-packages/sdmetrics/column_pairs/statistical/correlation_similarity.py:103: ConstantInputWarning: An input array is constant; the correlation coefficient is not defined.\n",
      "  correlation_synthetic, _ = correlation_fn(synthetic_data[column1], synthetic_data[column2])\n",
      "/Users/isaacbevers/sensein/b2ai-wrapper/.venv/lib/python3.10/site-packages/sdmetrics/column_pairs/statistical/correlation_similarity.py:103: ConstantInputWarning: An input array is constant; the correlation coefficient is not defined.\n",
      "  correlation_synthetic, _ = correlation_fn(synthetic_data[column1], synthetic_data[column2])\n"
     ]
    },
    {
     "name": "stdout",
     "output_type": "stream",
     "text": [
      "(2/2) Evaluating Column Pair Trends: |████████▏ | 603617/737505 [1:47:11<26:17, 84.86it/s]| "
     ]
    },
    {
     "name": "stderr",
     "output_type": "stream",
     "text": [
      "/Users/isaacbevers/sensein/b2ai-wrapper/.venv/lib/python3.10/site-packages/sdmetrics/column_pairs/statistical/correlation_similarity.py:103: ConstantInputWarning: An input array is constant; the correlation coefficient is not defined.\n",
      "  correlation_synthetic, _ = correlation_fn(synthetic_data[column1], synthetic_data[column2])\n",
      "/Users/isaacbevers/sensein/b2ai-wrapper/.venv/lib/python3.10/site-packages/sdmetrics/column_pairs/statistical/correlation_similarity.py:103: ConstantInputWarning: An input array is constant; the correlation coefficient is not defined.\n",
      "  correlation_synthetic, _ = correlation_fn(synthetic_data[column1], synthetic_data[column2])\n"
     ]
    },
    {
     "name": "stdout",
     "output_type": "stream",
     "text": [
      "(2/2) Evaluating Column Pair Trends: |████████▏ | 604647/737505 [1:47:23<25:23, 87.21it/s]| "
     ]
    },
    {
     "name": "stderr",
     "output_type": "stream",
     "text": [
      "/Users/isaacbevers/sensein/b2ai-wrapper/.venv/lib/python3.10/site-packages/sdmetrics/column_pairs/statistical/correlation_similarity.py:103: ConstantInputWarning: An input array is constant; the correlation coefficient is not defined.\n",
      "  correlation_synthetic, _ = correlation_fn(synthetic_data[column1], synthetic_data[column2])\n"
     ]
    },
    {
     "name": "stdout",
     "output_type": "stream",
     "text": [
      "(2/2) Evaluating Column Pair Trends: |██████████| 737505/737505 [2:08:24<00:00, 95.73it/s]|  \n",
      "Column Pair Trends Score: 26.06%\n",
      "\n"
     ]
    },
    {
     "name": "stderr",
     "output_type": "stream",
     "text": [
      "INFO:b2aiprep.synthetic.synthetic:Evaluation report saved to /Users/isaacbevers/sensein/b2ai-wrapper/b2aiprep/data/corpus-3/sdv_redcap_synthetic_data_100_rows_corpus_3_combine_first_evaluation_report.json.\n"
     ]
    },
    {
     "name": "stdout",
     "output_type": "stream",
     "text": [
      "Overall Score (Average): 54.07%\n",
      "\n"
     ]
    },
    {
     "data": {
      "text/plain": [
       "<sdmetrics.reports.single_table.quality_report.QualityReport at 0x3802e3eb0>"
      ]
     },
     "execution_count": 10,
     "metadata": {},
     "output_type": "execute_result"
    }
   ],
   "source": [
    "# def evaluate_data(\n",
    "#     synthetic_data_path: Union[str, Path], \n",
    "#     real_data_path: Union[str, Path], \n",
    "#     evaluation_report_path: Optional[Path] = None\n",
    "# ) -> dict:\n",
    "evaluate_data(synthetic_data_path=synthetic_data_path, real_data_path=real_data_path, evaluation_report_path=evaluation_report_path)"
   ]
  },
  {
   "cell_type": "code",
   "execution_count": null,
   "metadata": {},
   "outputs": [],
   "source": [
    "get_column_plots()"
   ]
  }
 ],
 "metadata": {
  "kernelspec": {
   "display_name": ".venv",
   "language": "python",
   "name": "python3"
  },
  "language_info": {
   "codemirror_mode": {
    "name": "ipython",
    "version": 3
   },
   "file_extension": ".py",
   "mimetype": "text/x-python",
   "name": "python",
   "nbconvert_exporter": "python",
   "pygments_lexer": "ipython3",
   "version": "3.10.11"
  }
 },
 "nbformat": 4,
 "nbformat_minor": 2
}
