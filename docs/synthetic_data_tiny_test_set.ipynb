{
 "cells": [
  {
   "cell_type": "code",
   "execution_count": 1,
   "metadata": {},
   "outputs": [],
   "source": [
    "from b2aiprep.synthetic import (\n",
    "    fit_synthesizer,\n",
    "    generate_tabular_data,\n",
    "    run_diagnostics,\n",
    "    evaluate_data,\n",
    "    get_column_plots\n",
    ")\n",
    "import os"
   ]
  },
  {
   "cell_type": "code",
   "execution_count": 2,
   "metadata": {},
   "outputs": [],
   "source": [
    "source_data_csv_path = os.getcwd() + \"/../data/test/tiny.csv\"\n",
    "synthetic_data_path = os.getcwd() + \"/../data/test/tiny_synthetic.csv\"\n",
    "synthetic_data_diagnostic_path = os.getcwd() + \"/../data/test/tiny_synthetic_diagnostic.json\"\n",
    "synthetic_data_evaluation_path = os.getcwd() + \"/../data/test/tiny_synthetic_evaluation.json\"\n",
    "synthetic_data_column_plot_path = os.getcwd() + \"/../data/test/\"\n",
    "n_synthetic_rows = 3\n",
    "synthesizer_path = os.getcwd() + \"/../models/synthesizers/test_tiny_CTGAN_synthesizer.pkl\""
   ]
  },
  {
   "cell_type": "markdown",
   "metadata": {},
   "source": [
    "#### Train a synthesizer model that learns the distribution of the data:"
   ]
  },
  {
   "cell_type": "code",
   "execution_count": 3,
   "metadata": {},
   "outputs": [
    {
     "name": "stderr",
     "output_type": "stream",
     "text": [
      "INFO:b2aiprep.synthetic.synthetic:Metadata detected from source data CSV.\n",
      "INFO:b2aiprep.synthetic.synthetic:Loaded synthesizer from file.\n"
     ]
    },
    {
     "data": {
      "text/plain": [
       "<sdv.single_table.ctgan.CTGANSynthesizer at 0x329c86d10>"
      ]
     },
     "execution_count": 3,
     "metadata": {},
     "output_type": "execute_result"
    }
   ],
   "source": [
    "fit_synthesizer(source_data_csv_path, refit=False, synthesizer_path=synthesizer_path)"
   ]
  },
  {
   "cell_type": "markdown",
   "metadata": {},
   "source": [
    "#### Sample from the trained synthesizer model to get synthetic data:"
   ]
  },
  {
   "cell_type": "code",
   "execution_count": 4,
   "metadata": {},
   "outputs": [
    {
     "name": "stderr",
     "output_type": "stream",
     "text": [
      "INFO:b2aiprep.synthetic.synthetic:Sampling 3 rows with the synthesizer...\n",
      "INFO:SingleTableSynthesizer:{'EVENT': 'Sample', 'TIMESTAMP': datetime.datetime(2024, 10, 24, 13, 53, 54, 306756), 'SYNTHESIZER CLASS NAME': 'CTGANSynthesizer', 'SYNTHESIZER ID': 'CTGANSynthesizer_1.13.1_48aaf33418374fafa254c26dbbc3cea7', 'TOTAL NUMBER OF TABLES': 1, 'TOTAL NUMBER OF ROWS': 3, 'TOTAL NUMBER OF COLUMNS': 3}\n",
      "INFO:b2aiprep.synthetic.synthetic:3 rows sampled.\n",
      "INFO:b2aiprep.synthetic.synthetic:Data saved to /Users/isaacbevers/sensein/b2ai-wrapper/b2aiprep/docs/../data/test/tiny_synthetic.csv.\n"
     ]
    },
    {
     "data": {
      "text/html": [
       "<div>\n",
       "<style scoped>\n",
       "    .dataframe tbody tr th:only-of-type {\n",
       "        vertical-align: middle;\n",
       "    }\n",
       "\n",
       "    .dataframe tbody tr th {\n",
       "        vertical-align: top;\n",
       "    }\n",
       "\n",
       "    .dataframe thead th {\n",
       "        text-align: right;\n",
       "    }\n",
       "</style>\n",
       "<table border=\"1\" class=\"dataframe\">\n",
       "  <thead>\n",
       "    <tr style=\"text-align: right;\">\n",
       "      <th></th>\n",
       "      <th>id</th>\n",
       "      <th>name</th>\n",
       "      <th>age</th>\n",
       "    </tr>\n",
       "  </thead>\n",
       "  <tbody>\n",
       "    <tr>\n",
       "      <th>0</th>\n",
       "      <td>4</td>\n",
       "      <td>Mike</td>\n",
       "      <td>39</td>\n",
       "    </tr>\n",
       "    <tr>\n",
       "      <th>1</th>\n",
       "      <td>3</td>\n",
       "      <td>John</td>\n",
       "      <td>28</td>\n",
       "    </tr>\n",
       "    <tr>\n",
       "      <th>2</th>\n",
       "      <td>3</td>\n",
       "      <td>Mike</td>\n",
       "      <td>45</td>\n",
       "    </tr>\n",
       "  </tbody>\n",
       "</table>\n",
       "</div>"
      ],
      "text/plain": [
       "   id  name  age\n",
       "0   4  Mike   39\n",
       "1   3  John   28\n",
       "2   3  Mike   45"
      ]
     },
     "execution_count": 4,
     "metadata": {},
     "output_type": "execute_result"
    }
   ],
   "source": [
    "generate_tabular_data(\n",
    "    n_synthetic_rows=n_synthetic_rows,\n",
    "    synthetic_data_path=synthetic_data_path,\n",
    "    synthesizer_path=synthesizer_path\n",
    ")"
   ]
  },
  {
   "cell_type": "markdown",
   "metadata": {},
   "source": [
    "#### Run diagnostics to ensure that synthetic data is valid:"
   ]
  },
  {
   "cell_type": "code",
   "execution_count": 5,
   "metadata": {},
   "outputs": [
    {
     "name": "stdout",
     "output_type": "stream",
     "text": [
      "Generating report ...\n",
      "\n",
      "(1/2) Evaluating Data Validity: |██████████| 3/3 [00:00<00:00, 2087.41it/s]|\n",
      "Data Validity Score: 100.0%\n",
      "\n",
      "(2/2) Evaluating Data Structure: |██████████| 1/1 [00:00<00:00, 800.59it/s]|\n",
      "Data Structure Score: 100.0%\n",
      "\n"
     ]
    },
    {
     "name": "stderr",
     "output_type": "stream",
     "text": [
      "INFO:b2aiprep.synthetic.synthetic:Basic validity checks completed.\n",
      "INFO:b2aiprep.synthetic.synthetic:Diagnostic report saved to /Users/isaacbevers/sensein/b2ai-wrapper/b2aiprep/docs/../data/test/tiny_synthetic_diagnostic.json.\n"
     ]
    },
    {
     "name": "stdout",
     "output_type": "stream",
     "text": [
      "Overall Score (Average): 100.0%\n",
      "\n"
     ]
    },
    {
     "data": {
      "text/plain": [
       "{'report_type': 'DiagnosticReport',\n",
       " 'generated_date': '2024-10-24',\n",
       " 'sdmetrics_version': '0.14.1',\n",
       " 'num_rows_real_data': 4,\n",
       " 'num_rows_synthetic_data': 3,\n",
       " 'generation_time': 0.005666017532348633,\n",
       " 'score': 1.0}"
      ]
     },
     "execution_count": 5,
     "metadata": {},
     "output_type": "execute_result"
    }
   ],
   "source": [
    "\n",
    "run_diagnostics(synthetic_data_path, source_data_csv_path, diagnostic_report_path=synthetic_data_diagnostic_path)"
   ]
  },
  {
   "cell_type": "markdown",
   "metadata": {},
   "source": [
    "#### Evaluate how well the synthetic data matches the distribution of the real data:"
   ]
  },
  {
   "cell_type": "code",
   "execution_count": 6,
   "metadata": {},
   "outputs": [
    {
     "name": "stdout",
     "output_type": "stream",
     "text": [
      "Generating report ...\n",
      "\n",
      "(1/2) Evaluating Column Shapes: |██████████| 3/3 [00:00<00:00, 1227.48it/s]|\n",
      "Column Shapes Score: 52.78%\n",
      "\n",
      "(2/2) Evaluating Column Pair Trends: |██████████| 3/3 [00:00<00:00, 179.02it/s]|\n",
      "Column Pair Trends Score: 57.26%\n",
      "\n"
     ]
    },
    {
     "name": "stderr",
     "output_type": "stream",
     "text": [
      "INFO:b2aiprep.synthetic.synthetic:Evaluation report saved to /Users/isaacbevers/sensein/b2ai-wrapper/b2aiprep/docs/../data/test/tiny_synthetic_evaluation.json.\n"
     ]
    },
    {
     "name": "stdout",
     "output_type": "stream",
     "text": [
      "Overall Score (Average): 55.02%\n",
      "\n"
     ]
    },
    {
     "data": {
      "text/plain": [
       "{'report_type': 'QualityReport',\n",
       " 'generated_date': '2024-10-24',\n",
       " 'sdmetrics_version': '0.14.1',\n",
       " 'num_rows_real_data': 4,\n",
       " 'num_rows_synthetic_data': 3,\n",
       " 'generation_time': 0.021953105926513672,\n",
       " 'score': 0.550169275730512}"
      ]
     },
     "execution_count": 6,
     "metadata": {},
     "output_type": "execute_result"
    }
   ],
   "source": [
    "evaluate_data(synthetic_data_path, source_data_csv_path, evaluation_report_path=synthetic_data_evaluation_path)"
   ]
  },
  {
   "cell_type": "markdown",
   "metadata": {},
   "source": [
    "#### Get plots of the distribution of the real data with the synthetic data for comparison:"
   ]
  },
  {
   "cell_type": "code",
   "execution_count": 7,
   "metadata": {},
   "outputs": [
    {
     "name": "stderr",
     "output_type": "stream",
     "text": [
      "INFO:b2aiprep.synthetic.synthetic:Plot saved for column 'id' at: /Users/isaacbevers/sensein/b2ai-wrapper/b2aiprep/docs/../data/test/id_column_real_and_synthetic_distribution_plot.png\n",
      "INFO:b2aiprep.synthetic.synthetic:Plot saved for column 'name' at: /Users/isaacbevers/sensein/b2ai-wrapper/b2aiprep/docs/../data/test/name_column_real_and_synthetic_distribution_plot.png\n",
      "INFO:b2aiprep.synthetic.synthetic:Plot saved for column 'age' at: /Users/isaacbevers/sensein/b2ai-wrapper/b2aiprep/docs/../data/test/age_column_real_and_synthetic_distribution_plot.png\n"
     ]
    },
    {
     "data": {
      "text/plain": [
       "[Figure({\n",
       "     'data': [{'fill': 'tozeroy',\n",
       "               'hovertemplate': '<b>Real</b><br>Frequency: %{y}<extra></extra>',\n",
       "               'legendgroup': 'Real',\n",
       "               'marker': {'color': '#000036'},\n",
       "               'mode': 'lines',\n",
       "               'name': 'Real',\n",
       "               'showlegend': True,\n",
       "               'type': 'scatter',\n",
       "               'x': [1.0, 1.006, 1.012, ..., 3.982, 3.988, 3.994],\n",
       "               'xaxis': 'x',\n",
       "               'y': array([0.17594505, 0.17649864, 0.17705029, ..., 0.17759998, 0.17705029,\n",
       "                           0.17649864]),\n",
       "               'yaxis': 'y'},\n",
       "              {'fill': 'tozeroy',\n",
       "               'hovertemplate': '<b>Synthetic</b><br>Frequency: %{y}<extra></extra>',\n",
       "               'legendgroup': 'Synthetic',\n",
       "               'marker': {'color': '#01E0C9'},\n",
       "               'mode': 'lines',\n",
       "               'name': 'Synthetic',\n",
       "               'showlegend': True,\n",
       "               'type': 'scatter',\n",
       "               'x': [3.0, 3.002, 3.004, ..., 3.9939999999999998, 3.996, 3.998],\n",
       "               'xaxis': 'x',\n",
       "               'y': array([0.60183629, 0.60209242, 0.60233978, ..., 0.34444336, 0.34392611,\n",
       "                           0.34340736]),\n",
       "               'yaxis': 'y'}],\n",
       "     'layout': {'barmode': 'overlay',\n",
       "                'font': {'size': 18},\n",
       "                'hovermode': 'closest',\n",
       "                'legend': {'traceorder': 'reversed'},\n",
       "                'plot_bgcolor': '#F5F5F8',\n",
       "                'template': '...',\n",
       "                'title': {'text': \"Real vs. Synthetic Data for column 'id'\"},\n",
       "                'xaxis': {'anchor': 'y2', 'domain': [0.0, 1.0], 'title': {'text': 'Value'}, 'zeroline': False},\n",
       "                'yaxis': {'anchor': 'free', 'domain': [0.0, 1], 'position': 0.0, 'title': {'text': 'Frequency'}}}\n",
       " }),\n",
       " Figure({\n",
       "     'data': [{'alignmentgroup': 'True',\n",
       "               'bingroup': 'x',\n",
       "               'histnorm': 'probability density',\n",
       "               'hovertemplate': '<b>Real</b><br>Frequency: %{y}<extra></extra>',\n",
       "               'legendgroup': 'Real',\n",
       "               'marker': {'color': '#000036', 'pattern': {'shape': ''}},\n",
       "               'name': 'Real',\n",
       "               'offsetgroup': 'Real',\n",
       "               'orientation': 'v',\n",
       "               'showlegend': True,\n",
       "               'type': 'histogram',\n",
       "               'x': array(['John', 'Sara', 'Mike', 'Lisa'], dtype=object),\n",
       "               'xaxis': 'x',\n",
       "               'yaxis': 'y'},\n",
       "              {'alignmentgroup': 'True',\n",
       "               'bingroup': 'x',\n",
       "               'histnorm': 'probability density',\n",
       "               'hovertemplate': '<b>Synthetic</b><br>Frequency: %{y}<extra></extra>',\n",
       "               'legendgroup': 'Synthetic',\n",
       "               'marker': {'color': '#01E0C9', 'pattern': {'shape': '/'}},\n",
       "               'name': 'Synthetic',\n",
       "               'offsetgroup': 'Synthetic',\n",
       "               'orientation': 'v',\n",
       "               'showlegend': True,\n",
       "               'type': 'histogram',\n",
       "               'x': array(['Mike', 'John', 'Mike'], dtype=object),\n",
       "               'xaxis': 'x',\n",
       "               'yaxis': 'y'}],\n",
       "     'layout': {'barmode': 'group',\n",
       "                'font': {'size': 18},\n",
       "                'legend': {'title': {'text': 'Data'}, 'tracegroupgap': 0},\n",
       "                'margin': {'t': 60},\n",
       "                'plot_bgcolor': '#F5F5F8',\n",
       "                'template': '...',\n",
       "                'title': {'text': \"Real vs. Synthetic Data for column 'name'\"},\n",
       "                'xaxis': {'anchor': 'y', 'domain': [0.0, 1.0], 'title': {'text': 'Category'}},\n",
       "                'yaxis': {'anchor': 'x', 'domain': [0.0, 1.0], 'title': {'text': 'Frequency'}}}\n",
       " }),\n",
       " Figure({\n",
       "     'data': [{'fill': 'tozeroy',\n",
       "               'hovertemplate': '<b>Real</b><br>Frequency: %{y}<extra></extra>',\n",
       "               'legendgroup': 'Real',\n",
       "               'marker': {'color': '#000036'},\n",
       "               'mode': 'lines',\n",
       "               'name': 'Real',\n",
       "               'showlegend': True,\n",
       "               'type': 'scatter',\n",
       "               'x': [28.0, 28.034, 28.068, ..., 44.897999999999996, 44.932, 44.966],\n",
       "               'xaxis': 'x',\n",
       "               'y': array([0.04389805, 0.04397724, 0.0440554 , ..., 0.02069726, 0.02065458,\n",
       "                           0.02061175]),\n",
       "               'yaxis': 'y'},\n",
       "              {'fill': 'tozeroy',\n",
       "               'hovertemplate': '<b>Synthetic</b><br>Frequency: %{y}<extra></extra>',\n",
       "               'legendgroup': 'Synthetic',\n",
       "               'marker': {'color': '#01E0C9'},\n",
       "               'mode': 'lines',\n",
       "               'name': 'Synthetic',\n",
       "               'showlegend': True,\n",
       "               'type': 'scatter',\n",
       "               'x': [28.0, 28.034, 28.068, ..., 44.897999999999996, 44.932, 44.966],\n",
       "               'xaxis': 'x',\n",
       "               'y': array([0.0255885 , 0.0256422 , 0.02569576, ..., 0.03355098, 0.0334845 ,\n",
       "                           0.0334176 ]),\n",
       "               'yaxis': 'y'}],\n",
       "     'layout': {'barmode': 'overlay',\n",
       "                'font': {'size': 18},\n",
       "                'hovermode': 'closest',\n",
       "                'legend': {'traceorder': 'reversed'},\n",
       "                'plot_bgcolor': '#F5F5F8',\n",
       "                'template': '...',\n",
       "                'title': {'text': \"Real vs. Synthetic Data for column 'age'\"},\n",
       "                'xaxis': {'anchor': 'y2', 'domain': [0.0, 1.0], 'title': {'text': 'Value'}, 'zeroline': False},\n",
       "                'yaxis': {'anchor': 'free', 'domain': [0.0, 1], 'position': 0.0, 'title': {'text': 'Frequency'}}}\n",
       " })]"
      ]
     },
     "execution_count": 7,
     "metadata": {},
     "output_type": "execute_result"
    }
   ],
   "source": [
    "get_column_plots(synthetic_data_path, source_data_csv_path, save_directory=synthetic_data_column_plot_path)"
   ]
  }
 ],
 "metadata": {
  "kernelspec": {
   "display_name": ".venv",
   "language": "python",
   "name": "python3"
  },
  "language_info": {
   "codemirror_mode": {
    "name": "ipython",
    "version": 3
   },
   "file_extension": ".py",
   "mimetype": "text/x-python",
   "name": "python",
   "nbconvert_exporter": "python",
   "pygments_lexer": "ipython3",
   "version": "3.10.11"
  }
 },
 "nbformat": 4,
 "nbformat_minor": 2
}
